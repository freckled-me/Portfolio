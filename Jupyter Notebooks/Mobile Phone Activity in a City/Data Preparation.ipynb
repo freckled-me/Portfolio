{
 "cells": [
  {
   "cell_type": "code",
   "execution_count": 1,
   "id": "87d1d4ba-628d-46f1-8fb0-1f9245a2430e",
   "metadata": {},
   "outputs": [],
   "source": [
    "import pandas as pd\n",
    "import glob "
   ]
  },
  {
   "cell_type": "code",
   "execution_count": 2,
   "id": "788bda82-1594-48b6-9462-8e4351d3f9d0",
   "metadata": {
    "scrolled": true
   },
   "outputs": [
    {
     "name": "stdout",
     "output_type": "stream",
     "text": [
      "['dataset\\\\sms-call-internet-mi-2013-11-01.txt', 'dataset\\\\sms-call-internet-mi-2013-11-02.txt', 'dataset\\\\sms-call-internet-mi-2013-11-03.txt', 'dataset\\\\sms-call-internet-mi-2013-11-04.txt', 'dataset\\\\sms-call-internet-mi-2013-11-05.txt', 'dataset\\\\sms-call-internet-mi-2013-11-06.txt', 'dataset\\\\sms-call-internet-mi-2013-11-07.txt', 'dataset\\\\sms-call-internet-mi-2013-11-08.txt', 'dataset\\\\sms-call-internet-mi-2013-11-09.txt', 'dataset\\\\sms-call-internet-mi-2013-11-10.txt', 'dataset\\\\sms-call-internet-mi-2013-11-11.txt', 'dataset\\\\sms-call-internet-mi-2013-11-12.txt', 'dataset\\\\sms-call-internet-mi-2013-11-13.txt', 'dataset\\\\sms-call-internet-mi-2013-11-14.txt', 'dataset\\\\sms-call-internet-mi-2013-11-15.txt', 'dataset\\\\sms-call-internet-mi-2013-11-16.txt', 'dataset\\\\sms-call-internet-mi-2013-11-17.txt', 'dataset\\\\sms-call-internet-mi-2013-11-18.txt', 'dataset\\\\sms-call-internet-mi-2013-11-19.txt', 'dataset\\\\sms-call-internet-mi-2013-11-20.txt', 'dataset\\\\sms-call-internet-mi-2013-11-21.txt', 'dataset\\\\sms-call-internet-mi-2013-11-22.txt', 'dataset\\\\sms-call-internet-mi-2013-11-23.txt', 'dataset\\\\sms-call-internet-mi-2013-11-24.txt', 'dataset\\\\sms-call-internet-mi-2013-11-25.txt', 'dataset\\\\sms-call-internet-mi-2013-11-26.txt', 'dataset\\\\sms-call-internet-mi-2013-11-27.txt', 'dataset\\\\sms-call-internet-mi-2013-11-28.txt', 'dataset\\\\sms-call-internet-mi-2013-11-29.txt', 'dataset\\\\sms-call-internet-mi-2013-11-30.txt', 'dataset\\\\sms-call-internet-mi-2013-12-01.txt', 'dataset\\\\sms-call-internet-mi-2013-12-02.txt', 'dataset\\\\sms-call-internet-mi-2013-12-03.txt', 'dataset\\\\sms-call-internet-mi-2013-12-04.txt', 'dataset\\\\sms-call-internet-mi-2013-12-05.txt', 'dataset\\\\sms-call-internet-mi-2013-12-06.txt', 'dataset\\\\sms-call-internet-mi-2013-12-07.txt', 'dataset\\\\sms-call-internet-mi-2013-12-08.txt', 'dataset\\\\sms-call-internet-mi-2013-12-09.txt', 'dataset\\\\sms-call-internet-mi-2013-12-10.txt', 'dataset\\\\sms-call-internet-mi-2013-12-11.txt', 'dataset\\\\sms-call-internet-mi-2013-12-12.txt', 'dataset\\\\sms-call-internet-mi-2013-12-13.txt', 'dataset\\\\sms-call-internet-mi-2013-12-14.txt', 'dataset\\\\sms-call-internet-mi-2013-12-15.txt', 'dataset\\\\sms-call-internet-mi-2013-12-16.txt', 'dataset\\\\sms-call-internet-mi-2013-12-17.txt', 'dataset\\\\sms-call-internet-mi-2013-12-18.txt', 'dataset\\\\sms-call-internet-mi-2013-12-19.txt', 'dataset\\\\sms-call-internet-mi-2013-12-20.txt', 'dataset\\\\sms-call-internet-mi-2013-12-21.txt', 'dataset\\\\sms-call-internet-mi-2013-12-22.txt', 'dataset\\\\sms-call-internet-mi-2013-12-23.txt', 'dataset\\\\sms-call-internet-mi-2013-12-24.txt', 'dataset\\\\sms-call-internet-mi-2013-12-25.txt', 'dataset\\\\sms-call-internet-mi-2013-12-26.txt', 'dataset\\\\sms-call-internet-mi-2013-12-27.txt', 'dataset\\\\sms-call-internet-mi-2013-12-28.txt', 'dataset\\\\sms-call-internet-mi-2013-12-29.txt', 'dataset\\\\sms-call-internet-mi-2013-12-30.txt', 'dataset\\\\sms-call-internet-mi-2013-12-31.txt', 'dataset\\\\sms-call-internet-mi-2014-01-01.txt']\n"
     ]
    }
   ],
   "source": [
    "paths = glob.glob('dataset/*')\n",
    "print(paths)"
   ]
  },
  {
   "cell_type": "code",
   "execution_count": null,
   "id": "d893764e-b3ca-4156-a06f-a919654b2803",
   "metadata": {},
   "outputs": [],
   "source": [
    "col_names = ['GridID','TimeInterval','countrycode', 'smsin','smsout','callin','callout','internet']\n",
    "df_cdr0 = pd.DataFrame({})\n",
    "df_cdr1 = pd.DataFrame({})\n",
    "\n",
    "for path in paths[:len(paths)//2]:\n",
    "    data = pd.read_csv(path,delimiter='\\t',names=col_names)\n",
    "    df_cdr0 = pd.concat([df_cdr0,data])\n",
    "\n",
    "for path in paths[len(paths)//2:]:\n",
    "    data = pd.read_csv(path,delimiter='\\t',names=col_names)\n",
    "    df_cdr1 = pd.concat([df_cdr1,data])"
   ]
  },
  {
   "cell_type": "code",
   "execution_count": 4,
   "id": "7494342f-af1a-4b1f-9475-84c0a2beb4f7",
   "metadata": {},
   "outputs": [],
   "source": [
    "df_cdr0.to_csv('data1.csv',index=False)\n",
    "df_cdr1.to_csv('data2.csv',index=False)"
   ]
  }
 ],
 "metadata": {
  "kernelspec": {
   "display_name": "Python 3 (ipykernel)",
   "language": "python",
   "name": "python3"
  },
  "language_info": {
   "codemirror_mode": {
    "name": "ipython",
    "version": 3
   },
   "file_extension": ".py",
   "mimetype": "text/x-python",
   "name": "python",
   "nbconvert_exporter": "python",
   "pygments_lexer": "ipython3",
   "version": "3.9.0"
  }
 },
 "nbformat": 4,
 "nbformat_minor": 5
}
